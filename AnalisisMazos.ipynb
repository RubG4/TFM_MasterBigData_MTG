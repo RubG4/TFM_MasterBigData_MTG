{
 "cells": [
  {
   "cell_type": "code",
   "execution_count": 1,
   "id": "bf428610",
   "metadata": {
    "tags": []
   },
   "outputs": [],
   "source": [
    "import os\n",
    "import numpy as np \n",
    "import pandas as pd\n",
    "from pymongo import MongoClient"
   ]
  },
  {
   "cell_type": "code",
   "execution_count": 3,
   "id": "7966b31c-5b80-4192-937f-8300a7bc4e8d",
   "metadata": {
    "tags": []
   },
   "outputs": [],
   "source": [
    "class DeckAnalisis:\n",
    "\n",
    "    client = MongoClient('mongodb://localhost:27017/')\n",
    "    db = client['TFM_MTG']\n",
    "    collection = db['AllDecks']\n",
    "    #Variables para guardar los datos como csv\n",
    "    folder = 'CSV'\n",
    "    file = 'AllDecks.csv'\n",
    "    path = os.path.join(folder, file)\n",
    "    \n",
    "    def __init__(self):\n",
    "        self = self\n",
    "        \n",
    "    def get_dataframe(self):\n",
    "        pointer = self.collection.find()\n",
    "        jsonDecks = {doc['_id']: doc for doc in pointer}\n",
    "        \n",
    "        df = pd.DataFrame(jsonDecks)\n",
    "        df = df.transpose()\n",
    "        df.drop(['_id'], axis=1, inplace=True)\n",
    "        \n",
    "        if not os.path.exists(self.folder):\n",
    "            os.makedirs(self.folder)\n",
    "            df.to_csv(self.file, index=False)\n",
    "        else:\n",
    "            df.to_csv(self.path, index=False)\n",
    "                \n",
    "        return df"
   ]
  },
  {
   "cell_type": "code",
   "execution_count": null,
   "id": "9b69daeb-aa38-478f-818a-ea34d6892862",
   "metadata": {},
   "outputs": [],
   "source": []
  }
 ],
 "metadata": {
  "kernelspec": {
   "display_name": "Python 3 (ipykernel)",
   "language": "python",
   "name": "python3"
  },
  "language_info": {
   "codemirror_mode": {
    "name": "ipython",
    "version": 3
   },
   "file_extension": ".py",
   "mimetype": "text/x-python",
   "name": "python",
   "nbconvert_exporter": "python",
   "pygments_lexer": "ipython3",
   "version": "3.11.5"
  }
 },
 "nbformat": 4,
 "nbformat_minor": 5
}
