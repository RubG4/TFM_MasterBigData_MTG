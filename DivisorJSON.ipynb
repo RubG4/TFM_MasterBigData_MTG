{
 "cells": [
  {
   "cell_type": "markdown",
   "id": "31635b7c-546f-4b79-a880-87da59f82b89",
   "metadata": {},
   "source": [
    "# En este código dividiremos los documentos para insertarlos en una base de datos de mongoDB"
   ]
  },
  {
   "cell_type": "code",
   "execution_count": 27,
   "id": "aee61a28-e900-4072-9793-faad8c175873",
   "metadata": {
    "collapsed": true,
    "jupyter": {
     "outputs_hidden": true
    },
    "tags": []
   },
   "outputs": [
    {
     "name": "stdout",
     "output_type": "stream",
     "text": [
      "Defaulting to user installation because normal site-packages is not writeable\n",
      "Collecting pymongo\n",
      "  Obtaining dependency information for pymongo from https://files.pythonhosted.org/packages/51/28/577224211f43e2079126bfec53080efba46e59218f47808098f125139558/pymongo-4.8.0-cp311-cp311-win_amd64.whl.metadata\n",
      "  Downloading pymongo-4.8.0-cp311-cp311-win_amd64.whl.metadata (22 kB)\n",
      "Collecting dnspython<3.0.0,>=1.16.0 (from pymongo)\n",
      "  Obtaining dependency information for dnspython<3.0.0,>=1.16.0 from https://files.pythonhosted.org/packages/87/a1/8c5287991ddb8d3e4662f71356d9656d91ab3a36618c3dd11b280df0d255/dnspython-2.6.1-py3-none-any.whl.metadata\n",
      "  Downloading dnspython-2.6.1-py3-none-any.whl.metadata (5.8 kB)\n",
      "Downloading pymongo-4.8.0-cp311-cp311-win_amd64.whl (630 kB)\n",
      "   ---------------------------------------- 0.0/631.0 kB ? eta -:--:--\n",
      "   - -------------------------------------- 30.7/631.0 kB 1.3 MB/s eta 0:00:01\n",
      "   --- ----------------------------------- 61.4/631.0 kB 812.7 kB/s eta 0:00:01\n",
      "   --------- ------------------------------ 143.4/631.0 kB 1.2 MB/s eta 0:00:01\n",
      "   ------------ --------------------------- 204.8/631.0 kB 1.2 MB/s eta 0:00:01\n",
      "   ----------------- ---------------------- 276.5/631.0 kB 1.3 MB/s eta 0:00:01\n",
      "   --------------------- ------------------ 337.9/631.0 kB 1.3 MB/s eta 0:00:01\n",
      "   -------------------------- ------------- 419.8/631.0 kB 1.4 MB/s eta 0:00:01\n",
      "   ----------------------------- ---------- 471.0/631.0 kB 1.3 MB/s eta 0:00:01\n",
      "   ------------------------------------ --- 573.4/631.0 kB 1.4 MB/s eta 0:00:01\n",
      "   ---------------------------------------- 631.0/631.0 kB 1.4 MB/s eta 0:00:00\n",
      "Downloading dnspython-2.6.1-py3-none-any.whl (307 kB)\n",
      "   ---------------------------------------- 0.0/307.7 kB ? eta -:--:--\n",
      "   ------- -------------------------------- 61.4/307.7 kB 1.7 MB/s eta 0:00:01\n",
      "   ------------------ --------------------- 143.4/307.7 kB 1.7 MB/s eta 0:00:01\n",
      "   ------------------------------ --------- 235.5/307.7 kB 1.8 MB/s eta 0:00:01\n",
      "   ---------------------------------------- 307.7/307.7 kB 1.9 MB/s eta 0:00:00\n",
      "Installing collected packages: dnspython, pymongo\n",
      "Successfully installed dnspython-2.6.1 pymongo-4.8.0\n",
      "Note: you may need to restart the kernel to use updated packages.\n"
     ]
    }
   ],
   "source": [
    "pip install pymongo"
   ]
  },
  {
   "cell_type": "code",
   "execution_count": 22,
   "id": "eb56a099-20d8-4ab3-be5f-20f372375e7d",
   "metadata": {
    "tags": []
   },
   "outputs": [],
   "source": [
    "import json\n",
    "import os\n",
    "from pymongo import MongoClient"
   ]
  },
  {
   "cell_type": "code",
   "execution_count": 20,
   "id": "6ea59b06-8fca-4967-b040-2b83560b47f9",
   "metadata": {
    "tags": []
   },
   "outputs": [],
   "source": [
    "#Mediante este bloque dividiremos el json para poder importarlo a una base de datos de mongoDB\n",
    "def split_json(file_path, output_prefix, max_docs_per_file):\n",
    "    with open(file_path, 'r', encoding='utf-8') as file:\n",
    "        data = json.load(file)\n",
    "        \n",
    "        keys = list(data.keys())\n",
    "        num_files = (len(keys) // max_docs_per_file) + (1 if len(keys) % max_docs_per_file != 0 else 0)\n",
    "        \n",
    "        for i in range(num_files):\n",
    "            start_index = i * max_docs_per_file\n",
    "            end_index = start_index + max_docs_per_file\n",
    "            chunk_keys = keys[start_index:end_index]\n",
    "            \n",
    "            chunk = {key: data[key] for key in chunk_keys}\n",
    "            \n",
    "            output_file_path = f\"{output_prefix}_{i+1}.json\"\n",
    "            with open(output_file_path, 'w', encoding='utf-8') as output_file:\n",
    "                json.dump(chunk, output_file, ensure_ascii=False, indent=4)\n",
    "            print(f\"Escrito {output_file_path}\")"
   ]
  },
  {
   "cell_type": "code",
   "execution_count": 18,
   "id": "618ef7e3-6903-4659-9407-64e2c7a04874",
   "metadata": {
    "tags": []
   },
   "outputs": [
    {
     "name": "stdout",
     "output_type": "stream",
     "text": [
      "Escrito ../Datos/Divisiones/AllCards_part_1.json\n",
      "Escrito ../Datos/Divisiones/AllCards_part_2.json\n",
      "Escrito ../Datos/Divisiones/AllCards_part_3.json\n",
      "Escrito ../Datos/Divisiones/AllCards_part_4.json\n",
      "Escrito ../Datos/Divisiones/AllCards_part_5.json\n",
      "Escrito ../Datos/Divisiones/AllCards_part_6.json\n",
      "Escrito ../Datos/Divisiones/AllCards_part_7.json\n",
      "Escrito ../Datos/Divisiones/AllCards_part_8.json\n",
      "Escrito ../Datos/Divisiones/AllCards_part_9.json\n",
      "Escrito ../Datos/Divisiones/AllCards_part_10.json\n",
      "Escrito ../Datos/Divisiones/AllCards_part_11.json\n"
     ]
    }
   ],
   "source": [
    "input_file = '../Datos/AllCards.json'\n",
    "output_prefix = '../Datos/Divisiones/AllCards_part'\n",
    "max_docs_per_file = 2000\n",
    "\n",
    "split_json(input_file, output_prefix, max_docs_per_file)"
   ]
  },
  {
   "cell_type": "markdown",
   "id": "4a8d8734-4458-4eb9-b461-d489ad8a8a07",
   "metadata": {},
   "source": [
    "## Crearemos la conexion con la bd de mongo para insertar los datos"
   ]
  },
  {
   "cell_type": "code",
   "execution_count": 7,
   "id": "c4301fb5-6e16-4b87-90ef-eb2800edb4be",
   "metadata": {},
   "outputs": [],
   "source": [
    "# Definición de la conexion con mongo\n",
    "client = MongoClient('mongodb://localhost:27017/')\n",
    "db = client['TFM_MTG']\n",
    "collection = db['AllCards']"
   ]
  },
  {
   "cell_type": "code",
   "execution_count": 30,
   "id": "3e0d1a96-81d0-4246-87b6-dd0a6a34f22e",
   "metadata": {
    "tags": []
   },
   "outputs": [
    {
     "name": "stdout",
     "output_type": "stream",
     "text": [
      "Número de documentos en la colección: 22478\n"
     ]
    }
   ],
   "source": [
    "num_documents = collection.count_documents({})\n",
    "print(f\"Número de documentos en la colección: {num_documents}\")"
   ]
  },
  {
   "cell_type": "code",
   "execution_count": 51,
   "id": "4fbc81f9-02cc-460e-a885-001707aba5fa",
   "metadata": {
    "tags": []
   },
   "outputs": [],
   "source": [
    "# Definimos la ruta de las divisiones y contamos el numero de ficheros\n",
    "path_dv ='../Datos/Divisiones/'\n",
    "fileNumber = [f for f in os.listdir(path_dv) if f.endswith('.json')]"
   ]
  },
  {
   "cell_type": "code",
   "execution_count": 53,
   "id": "3406ce10-db4c-4172-b5fd-384843491bce",
   "metadata": {
    "tags": []
   },
   "outputs": [
    {
     "name": "stdout",
     "output_type": "stream",
     "text": [
      "AllCards_part_1.json: 2000 documentos insertados correctamente.\n",
      "AllCards_part_2.json: 2000 documentos insertados correctamente.\n",
      "AllCards_part_3.json: 2000 documentos insertados correctamente.\n",
      "AllCards_part_4.json: 2000 documentos insertados correctamente.\n",
      "AllCards_part_5.json: 2000 documentos insertados correctamente.\n",
      "AllCards_part_6.json: 2000 documentos insertados correctamente.\n",
      "AllCards_part_7.json: 2000 documentos insertados correctamente.\n",
      "AllCards_part_8.json: 2000 documentos insertados correctamente.\n",
      "AllCards_part_9.json: 2000 documentos insertados correctamente.\n",
      "AllCards_part_10.json: 2000 documentos insertados correctamente.\n",
      "AllCards_part_11.json: 478 documentos insertados correctamente.\n"
     ]
    }
   ],
   "source": [
    "i = 1\n",
    "for filename in fileNumber:  # Itera desde 1 hasta 11 (inclusive)\n",
    "    fileJson = f'AllCards_part_{i}.json'\n",
    "    filepath = os.path.join(path_dv, fileJson)\n",
    "\n",
    "    # Abrir el archivo JSON y leer su contenido\n",
    "    with open(filepath, 'r', encoding='utf-8') as file:\n",
    "        json_data = json.load(file)\n",
    "\n",
    "    # Insertar los documentos en la colección de MongoDB\n",
    "    result = collection.insert_many(json_data.values())\n",
    "    print(f\"{fileJson}: {len(result.inserted_ids)} documentos insertados correctamente.\")\n",
    "    i += 1\n"
   ]
  },
  {
   "cell_type": "code",
   "execution_count": null,
   "id": "fb3ab72b-87e6-4965-972e-8e9020e7063a",
   "metadata": {},
   "outputs": [],
   "source": []
  }
 ],
 "metadata": {
  "kernelspec": {
   "display_name": "Python 3 (ipykernel)",
   "language": "python",
   "name": "python3"
  },
  "language_info": {
   "codemirror_mode": {
    "name": "ipython",
    "version": 3
   },
   "file_extension": ".py",
   "mimetype": "text/x-python",
   "name": "python",
   "nbconvert_exporter": "python",
   "pygments_lexer": "ipython3",
   "version": "3.11.5"
  }
 },
 "nbformat": 4,
 "nbformat_minor": 5
}
