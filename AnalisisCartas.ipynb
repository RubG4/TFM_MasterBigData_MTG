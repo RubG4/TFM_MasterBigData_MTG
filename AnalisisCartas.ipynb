{
 "cells": [
  {
   "cell_type": "code",
   "execution_count": 2,
   "id": "3238b6d6",
   "metadata": {},
   "outputs": [],
   "source": [
    "import numpy as np \n",
    "import pandas as pd \n",
    "import json\n",
    "from pymongo import MongoClient"
   ]
  },
  {
   "cell_type": "code",
   "execution_count": 9,
   "id": "f477c0b5",
   "metadata": {},
   "outputs": [],
   "source": [
    "class CardAnalisis:\n",
    "    #Conexion con mongoDB\n",
    "    client = MongoClient('mongodb://localhost:27017/')\n",
    "    db = client['TFM_MTG']\n",
    "    collection = db['AllCards']\n",
    "    \n",
    "    def __init__(self):\n",
    "        self = self\n",
    "\n",
    "    \n",
    "    def get_dataframe(self):\n",
    "        pointer = self.collection.find()\n",
    "        jsonCards = {doc['_id']: doc for doc in pointer}\n",
    "        \n",
    "        #transformamos el JSON a diccionario y eliminamos los registros del JSON que no cumplan con los requisitos\n",
    "        legalCards = {key: value for key, value in jsonCards.items() if value.get('legalities')}\n",
    "        \n",
    "        #Generamos un dataframe a partir de los datos previos\n",
    "        df = pd.DataFrame(legalCards)\n",
    "        #invertiremos las columnas y las filas para poder realizar el analisis de los datos\n",
    "        df = df.transpose()\n",
    "        #Eliminaremos las columnas de los id de mongo\n",
    "        df.drop(['_id'], axis=1, inplace=True)\n",
    "\n",
    "        return df"
   ]
  },
  {
   "cell_type": "code",
   "execution_count": null,
   "id": "598f2761-a272-4e39-bea6-d5040ccd723e",
   "metadata": {},
   "outputs": [],
   "source": []
  }
 ],
 "metadata": {
  "kernelspec": {
   "display_name": "Python 3 (ipykernel)",
   "language": "python",
   "name": "python3"
  },
  "language_info": {
   "codemirror_mode": {
    "name": "ipython",
    "version": 3
   },
   "file_extension": ".py",
   "mimetype": "text/x-python",
   "name": "python",
   "nbconvert_exporter": "python",
   "pygments_lexer": "ipython3",
   "version": "3.11.5"
  }
 },
 "nbformat": 4,
 "nbformat_minor": 5
}
